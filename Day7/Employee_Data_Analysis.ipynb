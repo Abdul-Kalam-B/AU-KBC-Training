{
 "cells": [
  {
   "cell_type": "code",
   "execution_count": 1,
   "id": "24fc4281-b3a1-48c2-9a57-0a8858c71eac",
   "metadata": {},
   "outputs": [],
   "source": [
    "import pandas as pd "
   ]
  },
  {
   "cell_type": "code",
   "execution_count": 3,
   "id": "d7e9e950-b3c3-4813-a58f-92fabc103009",
   "metadata": {},
   "outputs": [
    {
     "name": "stdout",
     "output_type": "stream",
     "text": [
      "         Name  Age Department  Salary\n",
      "0  Employee_1   36         IT   50814\n",
      "1  Employee_2   57         HR   73618\n",
      "2  Employee_3   51  Marketing   70085\n",
      "3  Employee_4   37         IT   50886\n",
      "4  Employee_5   36  Marketing   78254\n"
     ]
    }
   ],
   "source": [
    "#1\n",
    "df = pd.read_csv('employee_data.csv')\n",
    "print(df.head())"
   ]
  },
  {
   "cell_type": "code",
   "execution_count": 31,
   "id": "1ac7d356-8117-4a2c-9108-57056f74d445",
   "metadata": {},
   "outputs": [
    {
     "name": "stdout",
     "output_type": "stream",
     "text": [
      "           Name  Age Department  Salary\n",
      "1    Employee_2   57         HR   73618\n",
      "2    Employee_3   51  Marketing   70085\n",
      "5    Employee_6   59  Marketing   69381\n",
      "8    Employee_9   43    Finance   51575\n",
      "12  Employee_13   52  Marketing   78452\n",
      "13  Employee_14   44         IT   72962\n",
      "14  Employee_15   41         IT   52444\n",
      "15  Employee_16   44    Finance   40510\n",
      "16  Employee_17   55    Finance   71078\n",
      "18  Employee_19   46    Finance   66848\n",
      "21  Employee_22   43         IT   72244\n",
      "22  Employee_23   57         HR   57658\n",
      "24  Employee_25   46    Finance   42396\n"
     ]
    }
   ],
   "source": [
    "#2\n",
    "Filtered_employees = df[(df['Age'] > 40) & (df['Salary'] > 5000).head(25)]\n",
    "print(Filtered_employees)\n",
    "#First 25"
   ]
  },
  {
   "cell_type": "code",
   "execution_count": 15,
   "id": "0fba541b-1ef5-4702-a754-dd5311f983dd",
   "metadata": {},
   "outputs": [
    {
     "name": "stdout",
     "output_type": "stream",
     "text": [
      "  Department  Average Salary\n",
      "0    Finance    55562.391304\n",
      "1         HR    59832.000000\n",
      "2         IT    60536.958333\n",
      "3  Marketing    61189.724138\n"
     ]
    }
   ],
   "source": [
    "#3\n",
    "Avg_salary_by_dept = df.groupby('Department')['Salary'].mean().reset_index()\n",
    "Avg_salary_by_dept.columns = ['Department','Average Salary']\n",
    "print(Avg_salary_by_dept)"
   ]
  },
  {
   "cell_type": "code",
   "execution_count": 30,
   "id": "1c55af2c-6b48-480a-9c47-b315678a2959",
   "metadata": {},
   "outputs": [
    {
     "name": "stdout",
     "output_type": "stream",
     "text": [
      "Department with more Employees is Marketing !\n"
     ]
    }
   ],
   "source": [
    "#4\n",
    "employees_count = df['Department'].value_counts() #couts\n",
    "Dept_with_more_employees = employees_count.idxmax()  #max \n",
    "print(f\"Department with more Employees is {Dept_with_more_employees} !\")"
   ]
  },
  {
   "cell_type": "code",
   "execution_count": 32,
   "id": "45dc5f30-4f4a-4dc1-846a-5cb570dff5d7",
   "metadata": {},
   "outputs": [
    {
     "name": "stdout",
     "output_type": "stream",
     "text": [
      "Filtered Employees saved to 'Filtered_employees.xlsx'\n"
     ]
    }
   ],
   "source": [
    "#5\n",
    "Filtered_employees.to_excel('Filtered_employees.xlsx' , index = False)\n",
    "print(\"Filtered Employees saved to 'Filtered_employees.xlsx'\")"
   ]
  },
  {
   "cell_type": "code",
   "execution_count": null,
   "id": "fe9aa814-19b5-47e6-a17b-a4163ebe2f77",
   "metadata": {},
   "outputs": [],
   "source": []
  }
 ],
 "metadata": {
  "kernelspec": {
   "display_name": "Python 3 (ipykernel)",
   "language": "python",
   "name": "python3"
  },
  "language_info": {
   "codemirror_mode": {
    "name": "ipython",
    "version": 3
   },
   "file_extension": ".py",
   "mimetype": "text/x-python",
   "name": "python",
   "nbconvert_exporter": "python",
   "pygments_lexer": "ipython3",
   "version": "3.13.0"
  }
 },
 "nbformat": 4,
 "nbformat_minor": 5
}
