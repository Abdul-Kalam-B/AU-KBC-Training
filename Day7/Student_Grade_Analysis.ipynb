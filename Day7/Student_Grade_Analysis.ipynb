{
 "cells": [
  {
   "cell_type": "code",
   "execution_count": 1,
   "id": "df775504-5fca-46b6-b4dc-95038ca99dab",
   "metadata": {},
   "outputs": [],
   "source": [
    "import pandas as pd"
   ]
  },
  {
   "cell_type": "code",
   "execution_count": 2,
   "id": "6e5204fc-a68a-4a03-afad-8040beda8ae7",
   "metadata": {},
   "outputs": [
    {
     "name": "stdout",
     "output_type": "stream",
     "text": [
      "     Student  Math  Science  English\n",
      "0  Student_1    88       90       91\n",
      "1  Student_2    65       52       62\n",
      "2  Student_3    51       93       81\n",
      "3  Student_4    50       66       81\n",
      "4  Student_5    92       58       56\n"
     ]
    }
   ],
   "source": [
    "#1\n",
    "df = pd.read_excel('grades.xlsx')\n",
    "print(df.head())"
   ]
  },
  {
   "cell_type": "code",
   "execution_count": 4,
   "id": "7fa5d3a1-fdac-4aea-a72d-45464e619c91",
   "metadata": {},
   "outputs": [
    {
     "name": "stdout",
     "output_type": "stream",
     "text": [
      "     Student  Math  Science  English  Average Grade\n",
      "0  Student_1    88       90       91      89.666667\n",
      "1  Student_2    65       52       62      59.666667\n",
      "2  Student_3    51       93       81      75.000000\n",
      "3  Student_4    50       66       81      65.666667\n",
      "4  Student_5    92       58       56      68.666667\n"
     ]
    }
   ],
   "source": [
    "#2\n",
    "df['Average Grade'] = df[['Math','Science','English']].mean(axis = 1)\n",
    "print(df.head())"
   ]
  },
  {
   "cell_type": "code",
   "execution_count": 6,
   "id": "bcba7ddb-8b96-46cc-84a8-58adbe22ae87",
   "metadata": {},
   "outputs": [
    {
     "name": "stdout",
     "output_type": "stream",
     "text": [
      "92.66666666666667\n"
     ]
    }
   ],
   "source": [
    "max_average_grade = df['Average Grade'].max()\n",
    "print(max_average_grade)"
   ]
  },
  {
   "cell_type": "code",
   "execution_count": 10,
   "id": "2861d0eb-2fcb-4f52-ac59-7063753a9dfe",
   "metadata": {},
   "outputs": [
    {
     "name": "stdout",
     "output_type": "stream",
     "text": [
      "       Student  Math  Science  English  Average Grade\n",
      "10  Student_11    81       98       99      92.666667 \n",
      " has the highest average grade ..\n"
     ]
    }
   ],
   "source": [
    "#3\n",
    "topper = df[df['Average Grade'] == max_average_grade]\n",
    "print(f\"{topper} \\n has the highest average grade ..\")\n",
    "#print(f\"Student with the highest average grade:\\n{topper[['Student', 'Average Grade']]}\")"
   ]
  },
  {
   "cell_type": "code",
   "execution_count": 12,
   "id": "fb6a1758-2eae-4e12-a330-9907634acb50",
   "metadata": {},
   "outputs": [
    {
     "name": "stdout",
     "output_type": "stream",
     "text": [
      "     Student  Math  Science  English  Average Grade pass/fail\n",
      "0  Student_1    88       90       91      89.666667      Pass\n",
      "1  Student_2    65       52       62      59.666667      Pass\n",
      "2  Student_3    51       93       81      75.000000      Pass\n",
      "3  Student_4    50       66       81      65.666667      Pass\n",
      "4  Student_5    92       58       56      68.666667      Pass\n"
     ]
    }
   ],
   "source": [
    "#4\n",
    "df['pass/fail'] = df['Average Grade'].apply(lambda x: 'Pass' if x >= 50 else 'Fail')\n",
    "print(df.head())"
   ]
  },
  {
   "cell_type": "code",
   "execution_count": 14,
   "id": "911e4bbe-e705-45f8-969c-676838f95a85",
   "metadata": {},
   "outputs": [
    {
     "name": "stdout",
     "output_type": "stream",
     "text": [
      "       Student  Math  Science  English  Average Grade pass/fail\n",
      "10  Student_11    81       98       99      92.666667      Pass\n",
      "45  Student_46    97       94       86      92.333333      Pass\n",
      "90  Student_91    80       93       98      90.333333      Pass\n",
      "0    Student_1    88       90       91      89.666667      Pass\n",
      "55  Student_56    85       97       83      88.333333      Pass\n"
     ]
    }
   ],
   "source": [
    "#5\n",
    "Avg_Grade_Desc = df.sort_values(by = 'Average Grade' , ascending = False)\n",
    "print(Avg_Grade_Desc.head())"
   ]
  },
  {
   "cell_type": "code",
   "execution_count": null,
   "id": "38a09a92-e762-4482-8c8a-48081bb65a44",
   "metadata": {},
   "outputs": [],
   "source": []
  }
 ],
 "metadata": {
  "kernelspec": {
   "display_name": "Python 3 (ipykernel)",
   "language": "python",
   "name": "python3"
  },
  "language_info": {
   "codemirror_mode": {
    "name": "ipython",
    "version": 3
   },
   "file_extension": ".py",
   "mimetype": "text/x-python",
   "name": "python",
   "nbconvert_exporter": "python",
   "pygments_lexer": "ipython3",
   "version": "3.13.0"
  }
 },
 "nbformat": 4,
 "nbformat_minor": 5
}
