{
 "cells": [
  {
   "cell_type": "code",
   "execution_count": 23,
   "id": "1eef6228-7cb5-4ad8-b9ed-813d59a70ce1",
   "metadata": {},
   "outputs": [],
   "source": [
    "import pandas as pd"
   ]
  },
  {
   "cell_type": "code",
   "execution_count": 24,
   "id": "a9bc84f5-c2a5-4615-a5cd-d4cd40db705c",
   "metadata": {},
   "outputs": [
    {
     "name": "stdout",
     "output_type": "stream",
     "text": [
      "        Date Transaction Type  Amount\n",
      "0 2023-01-01       Withdrawal    4060\n",
      "1 2023-01-02       Withdrawal    1916\n",
      "2 2023-01-03       Withdrawal    3920\n",
      "3 2023-01-04          Deposit    4621\n",
      "4 2023-01-05          Deposit    2714\n"
     ]
    }
   ],
   "source": [
    "#1 read the file\n",
    "df = pd.read_json('financial_data.json',lines = True)\n",
    "print(df.head())"
   ]
  },
  {
   "cell_type": "code",
   "execution_count": 25,
   "id": "e0e4c226-bfe2-43f5-bcb5-cf5b9d90dd33",
   "metadata": {},
   "outputs": [
    {
     "name": "stdout",
     "output_type": "stream",
     "text": [
      " Total Deposits : 134067\n",
      " Total Withdrawalas : 119791\n"
     ]
    }
   ],
   "source": [
    "#2 Calculate the total deposit and total withdraw\n",
    "total_deposits = df[df['Transaction Type'] == 'Deposit']['Amount'].sum()\n",
    "total_widthdrawals = df[df['Transaction Type'] == 'Withdrawal']['Amount'].sum()\n",
    "print(f\" Total Deposits : {total_deposits}\")\n",
    "print(f\" Total Withdrawalas : {total_widthdrawals}\")"
   ]
  },
  {
   "cell_type": "code",
   "execution_count": 26,
   "id": "4975ce91-2a48-4f83-8def-47ddca48349f",
   "metadata": {},
   "outputs": [
    {
     "name": "stdout",
     "output_type": "stream",
     "text": [
      "Total net balance = 14276\n"
     ]
    }
   ],
   "source": [
    "#3 Total Net Balance\n",
    "Net_balance = total_deposits - total_widthdrawals\n",
    "print(f\"Total net balance = {Net_balance}\")"
   ]
  },
  {
   "cell_type": "code",
   "execution_count": 27,
   "id": "9a2abc53-a6e0-4002-9567-720c9cee8a60",
   "metadata": {},
   "outputs": [
    {
     "name": "stdout",
     "output_type": "stream",
     "text": [
      "Month with highest net Deposit : 1\n",
      "Highest net Deposit Value : 16497\n"
     ]
    }
   ],
   "source": [
    "#4 Highest deposit month-wise \n",
    "df['Date'] = pd.to_datetime(df['Date'])\n",
    "df['Month'] = df['Date'].dt.month\n",
    "\n",
    "tot_deposit = df.loc[df['Transaction Type'] == 'Deposit'].groupby('Month')['Amount'].sum()\n",
    "tot_withdraw = df.loc[df['Transaction Type'] == 'Withdrawal'].groupby('Month')['Amount'].sum()\n",
    "\n",
    "net_deposit = tot_deposit - tot_withdraw\n",
    "\n",
    "month_with_high_net_deposit = net_deposit.idxmax()\n",
    "high_net_deposit_value = net_deposit.max()\n",
    "\n",
    "print(f\"Month with highest net Deposit : {month_with_high_net_deposit}\")\n",
    "print(f\"Highest net Deposit Value : {high_net_deposit_value}\")"
   ]
  },
  {
   "cell_type": "code",
   "execution_count": 30,
   "id": "a7e9216a-543b-42a3-9a05-4852eec2aade",
   "metadata": {},
   "outputs": [
    {
     "name": "stdout",
     "output_type": "stream",
     "text": [
      "Financial summary has been saved as 'financial summary.csv'\n"
     ]
    }
   ],
   "source": [
    "#5 save the summary to csv file\n",
    "summary_data = {\n",
    "    'Total Deposit': [tot_deposit],\n",
    "    'Total Withdrawls': [tot_withdraw],\n",
    "    'Net Balance': [Net_balance],\n",
    "    'Month with Highest Net Deposit' : [month_with_high_net_deposit]\n",
    "}\n",
    "\n",
    "summary = pd.DataFrame(summary_data)\n",
    "\n",
    "summary.to_csv('financial summary.csv',index = False)\n",
    "print(\"Financial summary has been saved as 'financial summary.csv'\")"
   ]
  },
  {
   "cell_type": "code",
   "execution_count": null,
   "id": "d3323b70-7e65-4c02-a9ff-e659871cb1b6",
   "metadata": {},
   "outputs": [],
   "source": []
  }
 ],
 "metadata": {
  "kernelspec": {
   "display_name": "Python 3 (ipykernel)",
   "language": "python",
   "name": "python3"
  },
  "language_info": {
   "codemirror_mode": {
    "name": "ipython",
    "version": 3
   },
   "file_extension": ".py",
   "mimetype": "text/x-python",
   "name": "python",
   "nbconvert_exporter": "python",
   "pygments_lexer": "ipython3",
   "version": "3.13.0"
  }
 },
 "nbformat": 4,
 "nbformat_minor": 5
}
